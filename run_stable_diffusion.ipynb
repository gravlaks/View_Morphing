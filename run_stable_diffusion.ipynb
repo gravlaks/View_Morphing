{
 "cells": [
  {
   "cell_type": "code",
   "execution_count": null,
   "metadata": {},
   "outputs": [],
   "source": [
    "import PIL\n",
    "import torch\n",
    "from diffusers import StableDiffusionInpaintPipeline\n",
    "import numpy as np\n",
    "import matplotlib.pyplot as plt \n",
    "from skimage.transform import resize"
   ]
  },
  {
   "cell_type": "code",
   "execution_count": null,
   "metadata": {},
   "outputs": [],
   "source": [
    "pipe = StableDiffusionInpaintPipeline.from_pretrained(\n",
    "    \"runwayml/stable-diffusion-inpainting\", torch_dtype=torch.float16\n",
    ")\n",
    "torch_device = \"cuda\" if torch.cuda.is_available() else \"cpu\"\n",
    "pipe = pipe.to(torch_device)\n"
   ]
  },
  {
   "cell_type": "code",
   "execution_count": null,
   "metadata": {},
   "outputs": [],
   "source": [
    "\n",
    "\n",
    "import PIL\n",
    "import numpy as np\n",
    "import matplotlib.pyplot as plt \n",
    "from skimage.transform import resize\n",
    "init_image = PIL.Image.open('/output/mona0.70.jpg')\n",
    "init_image = np.array(init_image)\n",
    "\n",
    "mask = np.logical_not(np.load(\"/output/mona0.70_mask.npy\")).astype(float)\n",
    "\n",
    "\n",
    "i_width = 512\n",
    "i_height = 512\n",
    "\n",
    "# init_image = init_image.transpose((2, 0, 1))\n",
    "print(init_image.shape)\n",
    "init_image = resize(np.asarray(init_image), output_shape=(i_height, i_width))\n",
    "mask  = resize(mask, (i_height, i_width))\n",
    "filter = (mask==0)\n",
    "#init_image[filter] = np.random.randn(*(init_image[filter].shape))*255\n",
    "print(\"filter\", init_image[mask==0].shape)\n",
    "#init_image[mask==0] = np.random.randn(.shape)*255\n",
    "\n",
    "\n",
    "\n",
    "fig = plt.figure(figsize=(10, 5))\n",
    "ax = fig.add_subplot(121)\n",
    "ax.imshow(init_image)\n",
    "ax.axis('off')\n",
    "ax.set_title(f'Initial Image')\n",
    "ax = fig.add_subplot(122)\n",
    "ax.imshow(init_image, )\n",
    "ax.imshow(mask, alpha=mask, cmap='Set1')\n",
    "ax.axis('off')\n",
    "ax.set_title(f'Initial Image with mask')\n",
    "# pass\n",
    "\n",
    "print(mask.shape)\n",
    "print(init_image.shape)\n",
    "print(init_image.max())\n",
    "init_image *= 255"
   ]
  },
  {
   "cell_type": "code",
   "execution_count": null,
   "metadata": {},
   "outputs": [],
   "source": [
    "prompt = \"high resolution, man, grey background\"\n",
    "image = pipe(prompt=prompt, image=init_image, mask_image=mask).images[0]"
   ]
  },
  {
   "cell_type": "code",
   "execution_count": null,
   "metadata": {},
   "outputs": [],
   "source": []
  }
 ],
 "metadata": {
  "kernelspec": {
   "display_name": "ml",
   "language": "python",
   "name": "python3"
  },
  "language_info": {
   "codemirror_mode": {
    "name": "ipython",
    "version": 3
   },
   "file_extension": ".py",
   "mimetype": "text/x-python",
   "name": "python",
   "nbconvert_exporter": "python",
   "pygments_lexer": "ipython3",
   "version": "3.10.9"
  },
  "orig_nbformat": 4
 },
 "nbformat": 4,
 "nbformat_minor": 2
}
