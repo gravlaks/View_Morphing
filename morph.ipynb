{
 "cells": [
  {
   "cell_type": "code",
   "execution_count": 1,
   "metadata": {},
   "outputs": [],
   "source": [
    "from morph_utils import*\n",
    "import scipy.spatial\n",
    "\n",
    "s = 0.5\n",
    "\n",
    "I_1, I_2, dim_1 = load_mona_lisas()\n",
    "\n",
    "f_0 = np.array([\n",
    "    [ 0, 0, 1 ],\n",
    "    [ dim_1[0], 0, 1 ],\n",
    "    [ 0, dim_1[1], 1 ],\n",
    "    [ dim_1[0], dim_1[1], 1 ],\n",
    "])\n",
    "f_1, f_2 = find_face(I_1), find_face(I_2)\n",
    "\n",
    "F = get_fundamental(f_1, f_2)\n",
    "\n",
    "f_1 = np.vstack([ f_1, f_0 ])\n",
    "f_2 = np.vstack([ f_2, f_0 ])\n",
    "\n",
    "delu = scipy.spatial.Delaunay(f_1[:,:2]).simplices\n",
    "\n",
    "H_1, H_2, dim_2 = get_framed_homographies(F, f_1, f_2, dim_1)\n",
    "\n",
    "Hi_1 = np.linalg.inv(H_1)\n",
    "Hi_2 = np.linalg.inv(H_2)\n",
    "\n",
    "I_1 = cv.warpPerspective(I_1, Hi_1, dim_2)\n",
    "I_2 = cv.warpPerspective(I_2, Hi_2, dim_2)\n",
    "f_1 = apply_perspective(Hi_1, f_1)\n",
    "f_2 = apply_perspective(Hi_2, f_2)\n",
    "f_s = s * f_1 + (1 - s) * f_2\n",
    "H_s = cv.getPerspectiveTransform(f_s[-4:,:2].astype(np.float32), f_0[:,:2].astype(np.float32))\n",
    "\n",
    "tset_1 = f_1[delu][:, :, :2]\n",
    "tset_2 = f_2[delu][:, :, :2]\n",
    "tset_s = f_s[delu][:, :, :2]"
   ]
  },
  {
   "cell_type": "code",
   "execution_count": 2,
   "metadata": {},
   "outputs": [],
   "source": [
    "I_s = 0 * I_1.copy()\n",
    "\n",
    "for t_1, t_2, t_s, t_i in zip(tset_1, tset_2, tset_s, delu):\n",
    "    if np.any(t_i > 67):\n",
    "        continue\n",
    "\n",
    "    S_1 = cv.getAffineTransform(t_1.astype(np.float32), t_s.astype(np.float32))\n",
    "    S_2 = cv.getAffineTransform(t_2.astype(np.float32), t_s.astype(np.float32))\n",
    "\n",
    "    mask = cv.bitwise_and(\n",
    "        cv.drawContours(0 * I_1.copy(), [t_s.astype(np.int64)], -1, (255, 255, 255), -1),\n",
    "        cv.bitwise_not(I_s)\n",
    "    )\n",
    "\n",
    "    mix = cv.addWeighted(\n",
    "        cv.warpAffine(I_1.copy(), S_1, dim_2), s,\n",
    "        cv.warpAffine(I_2.copy(), S_2, dim_2), 1 - s,\n",
    "        0\n",
    "    )\n",
    "\n",
    "    I_s += cv.bitwise_and(mask, mix)\n",
    "\n"
   ]
  },
  {
   "cell_type": "code",
   "execution_count": 3,
   "metadata": {},
   "outputs": [
    {
     "data": {
      "text/plain": [
       "True"
      ]
     },
     "execution_count": 3,
     "metadata": {},
     "output_type": "execute_result"
    }
   ],
   "source": [
    "I_s = cv.warpPerspective(I_s, H_s, dim_1)\n",
    "cv.imwrite('s.jpg', I_s)\n",
    "cv.imwrite('1.jpg', I_1)\n",
    "cv.imwrite('2.jpg', I_2)"
   ]
  }
 ],
 "metadata": {
  "kernelspec": {
   "display_name": "cs231a-p",
   "language": "python",
   "name": "python3"
  },
  "language_info": {
   "codemirror_mode": {
    "name": "ipython",
    "version": 3
   },
   "file_extension": ".py",
   "mimetype": "text/x-python",
   "name": "python",
   "nbconvert_exporter": "python",
   "pygments_lexer": "ipython3",
   "version": "3.7.16"
  },
  "orig_nbformat": 4,
  "vscode": {
   "interpreter": {
    "hash": "cba9e92e5d34d8b5018bce2c3dda4257540cea01b4ce989673267df69f079d86"
   }
  }
 },
 "nbformat": 4,
 "nbformat_minor": 2
}
