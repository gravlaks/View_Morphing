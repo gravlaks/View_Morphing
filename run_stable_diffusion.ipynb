{
 "cells": [
  {
   "cell_type": "code",
   "execution_count": null,
   "metadata": {},
   "outputs": [],
   "source": [
    "import PIL\n",
    "import requests\n",
    "import torch\n",
    "from io import BytesIO\n",
    "from diffusers import StableDiffusionInpaintPipeline\n",
    "import numpy as np\n",
    "import matplotlib.pyplot as plt \n",
    "from skimage.transform import resize"
   ]
  },
  {
   "cell_type": "code",
   "execution_count": null,
   "metadata": {},
   "outputs": [],
   "source": [
    "pipe = StableDiffusionInpaintPipeline.from_pretrained(\n",
    "    \"runwayml/stable-diffusion-inpainting\", torch_dtype=torch.float16\n",
    ")\n",
    "pipe = pipe.to(\"cuda\")\n"
   ]
  },
  {
   "cell_type": "code",
   "execution_count": null,
   "metadata": {},
   "outputs": [],
   "source": [
    "\n",
    "init_image = PIL.Image.open('temp_data/<image>.jpg')\n",
    "init_image = np.array(init_image)\n",
    "\n",
    "mask = np.logical_not(np.load(\"temp_data/<mask>.npy\")).astype(float)\n",
    "\n",
    "\n",
    "i_width = 512\n",
    "i_height = 512\n",
    "\n",
    "\n",
    "init_image = resize(np.asarray(init_image), output_shape=(i_height, i_width))\n",
    "mask  = resize(mask, (i_height, i_width))\n",
    "\n",
    "\n",
    "fig = plt.figure(figsize=(10, 5))\n",
    "ax = fig.add_subplot(121)\n",
    "ax.imshow(init_image)\n",
    "ax.axis('off')\n",
    "ax.set_title(f'Initial Image')\n",
    "ax = fig.add_subplot(122)\n",
    "ax.imshow(init_image, )\n",
    "ax.imshow(mask, alpha=mask, cmap='Set1')\n",
    "ax.axis('off')\n",
    "ax.set_title(f'Initial Image with mask')\n",
    "# pass\n",
    "\n",
    "print(mask.shape)\n",
    "print(init_image.shape)\n",
    "print(init_image.max())\n",
    "init_image *= 255"
   ]
  },
  {
   "cell_type": "code",
   "execution_count": null,
   "metadata": {},
   "outputs": [],
   "source": [
    "prompt = \"high resolution, man, grey background\"\n",
    "image = pipe(prompt=prompt, image=init_image, mask_image=mask).images[0]"
   ]
  }
 ],
 "metadata": {
  "language_info": {
   "name": "python"
  },
  "orig_nbformat": 4
 },
 "nbformat": 4,
 "nbformat_minor": 2
}
